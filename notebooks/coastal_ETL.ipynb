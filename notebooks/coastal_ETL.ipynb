{
 "cells": [
  {
   "cell_type": "code",
   "execution_count": 23,
   "id": "2b7264b0-3196-449f-b364-b2182ce40809",
   "metadata": {},
   "outputs": [],
   "source": [
    "import os\n",
    "import shutil\n",
    "import glob\n",
    "from osgeo import gdal\n",
    "import geopandas as gpd\n",
    "from shapely.geometry import box\n",
    "import numpy as np\n",
    "import rasterio\n",
    "from rasterio.features import geometry_mask\n",
    "import sys\n",
    "from gdal_retile import main as gdal_retile_main\n",
    "import pandas as pd"
   ]
  },
  {
   "cell_type": "code",
   "execution_count": 2,
   "id": "f1f8f32d-20e3-4ef7-9c85-44e589f9fae0",
   "metadata": {},
   "outputs": [],
   "source": [
    "# Project params\n",
    "\n",
    "project_path = r\"C:\\Users\\owyn\\Documents\\SURV509\\coastal classification\"\n",
    "input_dir = os.path.join(project_path, \"inputs\")"
   ]
  },
  {
   "cell_type": "markdown",
   "id": "915ce647-6cef-483a-b437-07b2a853f285",
   "metadata": {},
   "source": [
    "### Merging geojpeg files in each region"
   ]
  },
  {
   "cell_type": "code",
   "execution_count": 13,
   "id": "0bc1111e-42c8-4975-9230-39cb1d076b97",
   "metadata": {},
   "outputs": [
    {
     "name": "stdout",
     "output_type": "stream",
     "text": [
      "Intersecting coastline shapefile created at C:\\Users\\owyn\\Documents\\SURV509\\coastal classification\\inputs\\urban\\intersecting_coastline.shp\n"
     ]
    }
   ],
   "source": [
    "# Define paths\n",
    "aerial_imagery_dir = os.path.join(input_dir, '0.3m Aerial Imagery')\n",
    "urban_shapefile = os.path.join(input_dir, 'urban', 'urban-areas.shp')\n",
    "coastline_shapefile = os.path.join(input_dir, 'linz', 'lds-nz-coastlines-topo-150k-JPEG-SHP', 'nz-coastlines-topo-150k.shp')\n",
    "\n",
    "# Load shapefiles\n",
    "urban_areas = gpd.read_file(urban_shapefile)\n",
    "coastlines = gpd.read_file(coastline_shapefile)\n",
    "\n",
    "output_coastline_shapefile = os.path.join(input_dir, 'urban', 'intersecting_coastline.shp')\n",
    "# Apply a 100 meter buffer to the urban areas\n",
    "buffered_urban_areas = urban_areas.buffer(100)\n",
    "\n",
    "# Find the intersection of the buffered urban areas and the coastline\n",
    "intersecting_coastlines = gpd.overlay(coastlines, gpd.GeoDataFrame(geometry=buffered_urban_areas), how='intersection')\n",
    "\n",
    "# Save the intersecting coastline segments to a new shapefile\n",
    "intersecting_coastlines.to_file(output_coastline_shapefile)\n",
    "\n",
    "print(f\"Intersecting coastline shapefile created at {output_coastline_shapefile}\")"
   ]
  },
  {
   "cell_type": "code",
   "execution_count": 9,
   "id": "948966db-1ae3-4dca-bf42-8f6562cc7928",
   "metadata": {},
   "outputs": [],
   "source": [
    "# Function to resample GeoJPEG to 0.3m resolution\n",
    "def resample_to_30cm(file_path):\n",
    "    output_file_path = file_path.replace('.jpg', '_resampled.jpg')\n",
    "    gdal.Warp(output_file_path, file_path, xRes=0.3, yRes=0.3, resampleAlg='bilinear')\n",
    "    return output_file_path\n",
    "\n",
    "# Function to check intersection\n",
    "def check_intersection(aerial_dir):\n",
    "    valid_files = []\n",
    "    for root, _, files in os.walk(aerial_dir):\n",
    "        for file in files:\n",
    "            if file.endswith('.jpg') or file.endswith('.jpeg'):\n",
    "                file_path = os.path.join(root, file)\n",
    "                with rasterio.open(file_path) as src:\n",
    "                    transform = src.transform\n",
    "                    cell_width, cell_height = transform[0], -transform[4]\n",
    "\n",
    "                    # Check if cell size is approximately 0.3m\n",
    "                    if not (0.295 <= cell_width <= 0.305 and 0.295 <= cell_height <= 0.305):\n",
    "                        file_path = resample_to_30cm(file_path)\n",
    "\n",
    "                    with rasterio.open(file_path) as resampled_src:\n",
    "                        bounds = resampled_src.bounds\n",
    "                        geom = box(*bounds)\n",
    "                        intersects_urban = urban_areas.intersects(geom).any()\n",
    "                        intersects_coastline = coastlines.intersects(geom).any()\n",
    "                    \n",
    "                        if intersects_urban or intersects_coastline:\n",
    "                            valid_files.append(file_path)\n",
    "    return valid_files\n",
    "\n",
    "def retile_images(geo_jpeg_paths, output_directory):\n",
    "    \"\"\"\n",
    "    Retile the given list of GeoJPEG paths and save the output to the specified directory.\n",
    "    \n",
    "    Args:\n",
    "        geo_jpeg_paths (list of str): List of paths to GeoJPEG files.\n",
    "        output_directory (str): Directory where the retiled images will be saved.\n",
    "    \"\"\"\n",
    "    # Create the output directory if it doesn't exist\n",
    "    if not os.path.exists(output_directory):\n",
    "        os.makedirs(output_directory)\n",
    "\n",
    "    # Prepare the arguments for gdal_retile.py\n",
    "    args = [\n",
    "        'gdal_retile.py', \n",
    "        '-targetDir', output_directory, \n",
    "        '-ps', '224', '224',\n",
    "        '-r', 'bilinear'\n",
    "    ] + geo_jpeg_paths\n",
    "\n",
    "    # Run the gdal_retile function\n",
    "    sys.argv = args\n",
    "    gdal_retile_main()\n",
    "\n",
    "    print(f\"Retiled images saved to {output_directory}\")\n",
    "\n",
    "def filter_tifs_by_coastline(retiled_dir, coastline_shapefile):\n",
    "    \"\"\"\n",
    "    Filter TIFF files in the retiled directory, keeping only those that intersect with the coastline.\n",
    "    \n",
    "    Args:\n",
    "        retiled_dir (str): Directory containing the retiled TIFF files.\n",
    "        coastline_shapefile (str): Path to the coastline shapefile.\n",
    "    \"\"\"\n",
    "    # Load coastline shapefile\n",
    "    coastlines = gpd.read_file(coastline_shapefile)\n",
    "\n",
    "    # List of TIFF files to keep\n",
    "    valid_tifs = []\n",
    "\n",
    "    # Iterate over TIFF files in the retiled directory\n",
    "    for tif_file in glob.glob(os.path.join(retiled_dir, '*.tif')):\n",
    "        with rasterio.open(tif_file) as src:\n",
    "            bounds = src.bounds\n",
    "            geom = box(*bounds)\n",
    "            intersects_coastline = coastlines.intersects(geom).any()\n",
    "            \n",
    "            if intersects_coastline:\n",
    "                valid_tifs.append(tif_file)\n",
    "    \n",
    "    # Move invalid TIFF files to a subfolder 'invalid'\n",
    "    invalid_dir = os.path.join(retiled_dir, 'invalid')\n",
    "    if not os.path.exists(invalid_dir):\n",
    "        os.makedirs(invalid_dir)\n",
    "    \n",
    "    for tif_file in glob.glob(os.path.join(retiled_dir, '*.tif')):\n",
    "        if tif_file not in valid_tifs:\n",
    "            shutil.move(tif_file, invalid_dir)\n",
    "\n",
    "    print(f\"Filtered TIFF files saved in {retiled_dir}. Invalid files moved to {invalid_dir}\")\n",
    "\n",
    "def filter_tifs_by_dimensions(retiled_dir, target_width=224, target_height=224):\n",
    "    \"\"\"\n",
    "    Filter TIFF files in the retiled directory, moving those that do not match the target dimensions to an 'invalid' folder.\n",
    "    \n",
    "    Args:\n",
    "        retiled_dir (str): Directory containing the retiled TIFF files.\n",
    "        target_width (int): Target width of the TIFF files.\n",
    "        target_height (int): Target height of the TIFF files.\n",
    "    \"\"\"\n",
    "    # Directory for invalid TIFF files\n",
    "    invalid_dir = os.path.join(retiled_dir, 'invalid')\n",
    "    if not os.path.exists(invalid_dir):\n",
    "        os.makedirs(invalid_dir)\n",
    "    \n",
    "    # Iterate over TIFF files in the retiled directory\n",
    "    for tif_file in glob.glob(os.path.join(retiled_dir, '*.tif')):\n",
    "        with rasterio.open(tif_file) as src:\n",
    "            width, height = src.width, src.height\n",
    "            \n",
    "        if width != target_width or height != target_height:\n",
    "            shutil.move(tif_file, invalid_dir)\n",
    "            print(f\"Moved {tif_file} to {invalid_dir} due to incorrect dimensions ({width}x{height})\")\n",
    "    \n",
    "    print(f\"Checked TIFF files for dimensions in {retiled_dir}. Invalid files moved to {invalid_dir}\")\n"
   ]
  },
  {
   "cell_type": "code",
   "execution_count": 17,
   "id": "24639dd3-1ecc-4bfa-971c-67b927a0aaa8",
   "metadata": {},
   "outputs": [
    {
     "name": "stdout",
     "output_type": "stream",
     "text": [
      "Filtered TIFF files saved in C:\\Users\\owyn\\Documents\\SURV509\\coastal classification\\inputs\\0.3m Aerial Imagery\\christchurch\\retiled. Invalid files moved to C:\\Users\\owyn\\Documents\\SURV509\\coastal classification\\inputs\\0.3m Aerial Imagery\\christchurch\\retiled\\invalid\n",
      "Checked TIFF files for dimensions in C:\\Users\\owyn\\Documents\\SURV509\\coastal classification\\inputs\\0.3m Aerial Imagery\\christchurch\\retiled. Invalid files moved to C:\\Users\\owyn\\Documents\\SURV509\\coastal classification\\inputs\\0.3m Aerial Imagery\\christchurch\\retiled\\invalid\n",
      "Filtered TIFF files saved in C:\\Users\\owyn\\Documents\\SURV509\\coastal classification\\inputs\\0.3m Aerial Imagery\\dunedin\\retiled. Invalid files moved to C:\\Users\\owyn\\Documents\\SURV509\\coastal classification\\inputs\\0.3m Aerial Imagery\\dunedin\\retiled\\invalid\n",
      "Checked TIFF files for dimensions in C:\\Users\\owyn\\Documents\\SURV509\\coastal classification\\inputs\\0.3m Aerial Imagery\\dunedin\\retiled. Invalid files moved to C:\\Users\\owyn\\Documents\\SURV509\\coastal classification\\inputs\\0.3m Aerial Imagery\\dunedin\\retiled\\invalid\n",
      "Filtered TIFF files saved in C:\\Users\\owyn\\Documents\\SURV509\\coastal classification\\inputs\\0.3m Aerial Imagery\\greymouth\\retiled. Invalid files moved to C:\\Users\\owyn\\Documents\\SURV509\\coastal classification\\inputs\\0.3m Aerial Imagery\\greymouth\\retiled\\invalid\n",
      "Checked TIFF files for dimensions in C:\\Users\\owyn\\Documents\\SURV509\\coastal classification\\inputs\\0.3m Aerial Imagery\\greymouth\\retiled. Invalid files moved to C:\\Users\\owyn\\Documents\\SURV509\\coastal classification\\inputs\\0.3m Aerial Imagery\\greymouth\\retiled\\invalid\n",
      "Filtered TIFF files saved in C:\\Users\\owyn\\Documents\\SURV509\\coastal classification\\inputs\\0.3m Aerial Imagery\\invercargill\\retiled. Invalid files moved to C:\\Users\\owyn\\Documents\\SURV509\\coastal classification\\inputs\\0.3m Aerial Imagery\\invercargill\\retiled\\invalid\n",
      "Checked TIFF files for dimensions in C:\\Users\\owyn\\Documents\\SURV509\\coastal classification\\inputs\\0.3m Aerial Imagery\\invercargill\\retiled. Invalid files moved to C:\\Users\\owyn\\Documents\\SURV509\\coastal classification\\inputs\\0.3m Aerial Imagery\\invercargill\\retiled\\invalid\n",
      "Filtered TIFF files saved in C:\\Users\\owyn\\Documents\\SURV509\\coastal classification\\inputs\\0.3m Aerial Imagery\\mapua\\retiled. Invalid files moved to C:\\Users\\owyn\\Documents\\SURV509\\coastal classification\\inputs\\0.3m Aerial Imagery\\mapua\\retiled\\invalid\n",
      "Checked TIFF files for dimensions in C:\\Users\\owyn\\Documents\\SURV509\\coastal classification\\inputs\\0.3m Aerial Imagery\\mapua\\retiled. Invalid files moved to C:\\Users\\owyn\\Documents\\SURV509\\coastal classification\\inputs\\0.3m Aerial Imagery\\mapua\\retiled\\invalid\n",
      "Filtered TIFF files saved in C:\\Users\\owyn\\Documents\\SURV509\\coastal classification\\inputs\\0.3m Aerial Imagery\\motueka\\retiled. Invalid files moved to C:\\Users\\owyn\\Documents\\SURV509\\coastal classification\\inputs\\0.3m Aerial Imagery\\motueka\\retiled\\invalid\n",
      "Checked TIFF files for dimensions in C:\\Users\\owyn\\Documents\\SURV509\\coastal classification\\inputs\\0.3m Aerial Imagery\\motueka\\retiled. Invalid files moved to C:\\Users\\owyn\\Documents\\SURV509\\coastal classification\\inputs\\0.3m Aerial Imagery\\motueka\\retiled\\invalid\n",
      "Filtered TIFF files saved in C:\\Users\\owyn\\Documents\\SURV509\\coastal classification\\inputs\\0.3m Aerial Imagery\\nelson\\retiled. Invalid files moved to C:\\Users\\owyn\\Documents\\SURV509\\coastal classification\\inputs\\0.3m Aerial Imagery\\nelson\\retiled\\invalid\n",
      "Checked TIFF files for dimensions in C:\\Users\\owyn\\Documents\\SURV509\\coastal classification\\inputs\\0.3m Aerial Imagery\\nelson\\retiled. Invalid files moved to C:\\Users\\owyn\\Documents\\SURV509\\coastal classification\\inputs\\0.3m Aerial Imagery\\nelson\\retiled\\invalid\n",
      "Filtered TIFF files saved in C:\\Users\\owyn\\Documents\\SURV509\\coastal classification\\inputs\\0.3m Aerial Imagery\\oamaru\\retiled. Invalid files moved to C:\\Users\\owyn\\Documents\\SURV509\\coastal classification\\inputs\\0.3m Aerial Imagery\\oamaru\\retiled\\invalid\n",
      "Checked TIFF files for dimensions in C:\\Users\\owyn\\Documents\\SURV509\\coastal classification\\inputs\\0.3m Aerial Imagery\\oamaru\\retiled. Invalid files moved to C:\\Users\\owyn\\Documents\\SURV509\\coastal classification\\inputs\\0.3m Aerial Imagery\\oamaru\\retiled\\invalid\n",
      "Filtered TIFF files saved in C:\\Users\\owyn\\Documents\\SURV509\\coastal classification\\inputs\\0.3m Aerial Imagery\\timaru\\retiled. Invalid files moved to C:\\Users\\owyn\\Documents\\SURV509\\coastal classification\\inputs\\0.3m Aerial Imagery\\timaru\\retiled\\invalid\n",
      "Checked TIFF files for dimensions in C:\\Users\\owyn\\Documents\\SURV509\\coastal classification\\inputs\\0.3m Aerial Imagery\\timaru\\retiled. Invalid files moved to C:\\Users\\owyn\\Documents\\SURV509\\coastal classification\\inputs\\0.3m Aerial Imagery\\timaru\\retiled\\invalid\n",
      "Filtered TIFF files saved in C:\\Users\\owyn\\Documents\\SURV509\\coastal classification\\inputs\\0.3m Aerial Imagery\\waikouaiti\\retiled. Invalid files moved to C:\\Users\\owyn\\Documents\\SURV509\\coastal classification\\inputs\\0.3m Aerial Imagery\\waikouaiti\\retiled\\invalid\n",
      "Checked TIFF files for dimensions in C:\\Users\\owyn\\Documents\\SURV509\\coastal classification\\inputs\\0.3m Aerial Imagery\\waikouaiti\\retiled. Invalid files moved to C:\\Users\\owyn\\Documents\\SURV509\\coastal classification\\inputs\\0.3m Aerial Imagery\\waikouaiti\\retiled\\invalid\n",
      "Filtered TIFF files saved in C:\\Users\\owyn\\Documents\\SURV509\\coastal classification\\inputs\\0.3m Aerial Imagery\\waituku\\retiled. Invalid files moved to C:\\Users\\owyn\\Documents\\SURV509\\coastal classification\\inputs\\0.3m Aerial Imagery\\waituku\\retiled\\invalid\n",
      "Checked TIFF files for dimensions in C:\\Users\\owyn\\Documents\\SURV509\\coastal classification\\inputs\\0.3m Aerial Imagery\\waituku\\retiled. Invalid files moved to C:\\Users\\owyn\\Documents\\SURV509\\coastal classification\\inputs\\0.3m Aerial Imagery\\waituku\\retiled\\invalid\n",
      "Processing complete.\n"
     ]
    }
   ],
   "source": [
    "# Main processing loop\n",
    "\n",
    "# Dictionary to store valid JPEG paths\n",
    "valid_jpegs = {}\n",
    "\n",
    "aerial_imagery_base_dir = os.path.join(input_dir, '0.3m Aerial Imagery')\n",
    "\n",
    "for region_name in os.listdir(aerial_imagery_base_dir):\n",
    "    region_dir = os.path.join(aerial_imagery_base_dir, region_name)\n",
    "    if os.path.isdir(region_dir):\n",
    "        retile_output_dir = os.path.join(region_dir, 'retiled')\n",
    "        \n",
    "        if not os.path.exists(retile_output_dir) or not os.listdir(retile_output_dir):\n",
    "            valid_jpegs[region_name] = check_intersection(region_dir)\n",
    "            print(f\"Intersecting tiles found for {region_name}\")\n",
    "            \n",
    "            # Retile the valid files\n",
    "            retile_images(valid_jpegs[region_name], retile_output_dir)\n",
    "        \n",
    "        # Filter TIFF files by intersection with coastline (urban coastline)\n",
    "        filter_tifs_by_coastline(retile_output_dir, output_coastline_shapefile)\n",
    "        filter_tifs_by_dimensions(retile_output_dir, target_width=224, target_height=224)\n",
    "\n",
    "print(\"Processing complete.\")"
   ]
  },
  {
   "cell_type": "code",
   "execution_count": 18,
   "id": "10ce7980-c6b7-4681-b2bd-984a59d660fc",
   "metadata": {},
   "outputs": [
    {
     "name": "stdout",
     "output_type": "stream",
     "text": [
      "Total number of valid TIFF files: 4502\n"
     ]
    }
   ],
   "source": [
    "total_valid_tifs = 0\n",
    "\n",
    "for region_name in os.listdir(aerial_imagery_base_dir):\n",
    "    region_dir = os.path.join(aerial_imagery_base_dir, region_name)\n",
    "    if os.path.isdir(region_dir):\n",
    "        retile_output_dir = os.path.join(region_dir, 'retiled')\n",
    "        if os.path.exists(retile_output_dir):\n",
    "            valid_tifs = glob.glob(os.path.join(retile_output_dir, '*.tif'))\n",
    "            total_valid_tifs += len(valid_tifs)\n",
    "\n",
    "print(f\"Total number of valid TIFF files: {total_valid_tifs}\")"
   ]
  },
  {
   "cell_type": "markdown",
   "id": "f7b22ae8-5806-44d2-8348-c63a2a7c3a69",
   "metadata": {},
   "source": [
    "### Labelling data (Christchurch and Dunedin)\n",
    "Labelling coastline for Christchurch and Dunedin"
   ]
  },
  {
   "cell_type": "code",
   "execution_count": 21,
   "id": "f72ade3b-d398-4f3b-9a4f-13582b3cc06f",
   "metadata": {},
   "outputs": [
    {
     "name": "stdout",
     "output_type": "stream",
     "text": [
      "Built-up coastline shapefile created at C:\\Users\\owyn\\Documents\\SURV509\\coastal classification\\inputs\\training\\built_up_coastline.shp\n"
     ]
    }
   ],
   "source": [
    "labelled_areas_shapefile = os.path.join(input_dir, 'training', 'labelled areas.shp')\n",
    "output_built_up_coastline_shapefile = os.path.join(input_dir, 'training', 'built_up_coastline.shp')\n",
    "\n",
    "labelled_areas = gpd.read_file(labelled_areas_shapefile)\n",
    "# Find the intersection of the intersecting coastline with the labelled areas\n",
    "built_up_coastline = gpd.overlay(intersecting_coastlines, labelled_areas, how='intersection')\n",
    "\n",
    "# Save the resulting segments to a new shapefile\n",
    "built_up_coastline.to_file(output_built_up_coastline_shapefile)\n",
    "\n",
    "print(f\"Built-up coastline shapefile created at {output_built_up_coastline_shapefile}\")"
   ]
  },
  {
   "cell_type": "markdown",
   "id": "8c183814-3baf-42f3-97c5-ebf9f712bdf8",
   "metadata": {},
   "source": [
    "### Creating the label dataset"
   ]
  },
  {
   "cell_type": "code",
   "execution_count": 24,
   "id": "47026272-fec3-437f-ae7d-dd95bb36338f",
   "metadata": {},
   "outputs": [
    {
     "name": "stdout",
     "output_type": "stream",
     "text": [
      "Total number of observations: 2482\n",
      "Number of 1s: 1075\n",
      "Number of 0s: 1407\n",
      "Labels saved to C:\\Users\\owyn\\Documents\\SURV509\\coastal classification\\inputs\\training\\tif_labels.csv\n"
     ]
    }
   ],
   "source": [
    "# List of regions to process\n",
    "regions_to_process = ['christchurch', 'dunedin']\n",
    "\n",
    "# Initialise list to store TIFF file names and their labels\n",
    "tif_labels = []\n",
    "\n",
    "# Iterate through specified regions\n",
    "for region_name in regions_to_process:\n",
    "    region_dir = os.path.join(aerial_imagery_base_dir, region_name, 'retiled')\n",
    "    if os.path.isdir(region_dir):\n",
    "        valid_tif_files = glob.glob(os.path.join(region_dir, '*.tif'))\n",
    "        \n",
    "        for tif_file in valid_tif_files:\n",
    "            with rasterio.open(tif_file) as src:\n",
    "                bounds = src.bounds\n",
    "                geom = box(*bounds)\n",
    "                intersects_built_up = built_up_coastline.intersects(geom).any()\n",
    "                label = 1 if intersects_built_up else 0\n",
    "                tif_labels.append((tif_file, label))\n",
    "\n",
    "# Save the labels to a CSV file\n",
    "tif_labels_df = pd.DataFrame(tif_labels, columns=['tif_file', 'label'])\n",
    "output_csv = os.path.join(input_dir, 'training', 'tif_labels.csv')\n",
    "tif_labels_df.to_csv(output_csv, index=False)\n",
    "\n",
    "# Summary\n",
    "total_observations = len(tif_labels)\n",
    "total_ones = sum(label for _, label in tif_labels)\n",
    "total_zeros = total_observations - total_ones\n",
    "\n",
    "print(f\"Total number of observations: {total_observations}\")\n",
    "print(f\"Number of 1s: {total_ones}\")\n",
    "print(f\"Number of 0s: {total_zeros}\")\n",
    "print(f\"Labels saved to {output_csv}\")"
   ]
  }
 ],
 "metadata": {
  "kernelspec": {
   "display_name": "Python (aukahagis)",
   "language": "python",
   "name": "aukahagis"
  },
  "language_info": {
   "codemirror_mode": {
    "name": "ipython",
    "version": 3
   },
   "file_extension": ".py",
   "mimetype": "text/x-python",
   "name": "python",
   "nbconvert_exporter": "python",
   "pygments_lexer": "ipython3",
   "version": "3.12.1"
  }
 },
 "nbformat": 4,
 "nbformat_minor": 5
}
